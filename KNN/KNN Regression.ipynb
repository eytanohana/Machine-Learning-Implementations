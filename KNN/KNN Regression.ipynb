{
 "cells": [
  {
   "cell_type": "markdown",
   "metadata": {},
   "source": [
    "# K Nearest Neighbors Regression\n",
    "\n",
    "KNN regression makes a prediction for a new instance by taking the average target value for the k closest points."
   ]
  },
  {
   "cell_type": "code",
   "execution_count": 11,
   "metadata": {},
   "outputs": [],
   "source": [
    "import numpy as np\n",
    "import pandas as pd\n",
    "import matplotlib.pyplot as plt\n",
    "import seaborn as sns\n",
    "\n",
    "from sklearn.model_selection import train_test_split\n",
    "from sklearn.datasets import load_boston"
   ]
  },
  {
   "cell_type": "markdown",
   "metadata": {},
   "source": [
    "# Data Preparation"
   ]
  },
  {
   "cell_type": "code",
   "execution_count": 16,
   "metadata": {},
   "outputs": [
    {
     "data": {
      "text/plain": [
       "dict_keys(['data', 'target', 'feature_names', 'DESCR', 'filename'])"
      ]
     },
     "execution_count": 16,
     "metadata": {},
     "output_type": "execute_result"
    }
   ],
   "source": [
    "boston = load_boston()\n",
    "boston.keys()"
   ]
  },
  {
   "cell_type": "code",
   "execution_count": 40,
   "metadata": {},
   "outputs": [
    {
     "name": "stdout",
     "output_type": "stream",
     "text": [
      "\n",
      "Boston house prices dataset\n",
      "---------------------------\n",
      "\n",
      "**Data Set Characteristics:**  \n",
      "\n",
      "    :Number of Instances: 506 \n",
      "\n",
      "    :Number of Attributes: 13 numeric/categorical predictive. Median Value (attribute 14) is usually the target.\n",
      "\n",
      "    :Attribute Information (in order):\n",
      "        - CRIM     per capita crime rate by town\n",
      "        - ZN       proportion of residential land zoned for lots over 25,000 sq.ft.\n",
      "        - INDUS    proportion of non-retail business acres per town\n",
      "        - CHAS     Charles River dummy variable (= 1 if tract bounds river; 0 otherwise)\n",
      "        - NOX      nitric oxides concentration (parts per 10 million)\n",
      "        - RM       average number of rooms per dwelling\n",
      "        - AGE      proportion of owner-occupied units built prior to 1940\n",
      "        - DIS      weighted distances to five Boston employment centres\n",
      "        - RAD      index of accessibility to radial highways\n",
      "        - TAX      full-value property-tax rate per $10,000\n",
      "        - PTRATIO  pupil-teacher ratio by town\n",
      "        - B        1000(Bk - 0.63)^2 where Bk is the proportion of blacks by town\n",
      "        - LSTAT    % lower status of the population\n",
      "        - MEDV     Median value of owner-occupied homes in $1000's\n",
      "\n",
      "    :Missing Attribute Values: None\n",
      "\n",
      "\n"
     ]
    }
   ],
   "source": [
    "print(boston['DESCR'][20:1265])"
   ]
  },
  {
   "cell_type": "code",
   "execution_count": 42,
   "metadata": {},
   "outputs": [
    {
     "name": "stdout",
     "output_type": "stream",
     "text": [
      "(506, 13) (506,)\n"
     ]
    }
   ],
   "source": [
    "print(boston['data'].shape, boston['target'].shape)\n",
    "\n",
    "X = boston['data']\n",
    "y = boston['target']"
   ]
  },
  {
   "cell_type": "code",
   "execution_count": 43,
   "metadata": {},
   "outputs": [
    {
     "name": "stdout",
     "output_type": "stream",
     "text": [
      "X_train: (379, 13)\n",
      "X_test: (127, 13)\n",
      "\n",
      "y_train: (379,)\n",
      "y_test: (127,)\n"
     ]
    }
   ],
   "source": [
    "X_train, X_test, y_train, y_test = train_test_split(X, y, random_state=42)\n",
    "\n",
    "print('X_train:', X_train.shape)\n",
    "print('X_test:', X_test.shape)\n",
    "print()\n",
    "print('y_train:', y_train.shape)\n",
    "print('y_test:', y_test.shape)"
   ]
  },
  {
   "cell_type": "markdown",
   "metadata": {},
   "source": [
    "# Distance metrics\n",
    "\n",
    "Minkowski distance is a metric that measures the distance between two n-dimensional points.\n",
    "\n",
    "For $\\vec{x} = \\begin{pmatrix} x_1 \\\\ x_2 \\\\ \\vdots \\\\ x_n\\end{pmatrix} $ and $\\vec{y} = \\begin{pmatrix} y_1 \\\\ y_2 \\\\ \\vdots \\\\ y_n\\end{pmatrix}$ the Minkowski distance of order $p \\ge 1$  for $\\vec{x}$ and $\\vec{y}$ is given by:\n",
    "\n",
    "$$\n",
    "D(\\vec{x}, \\vec{y}) = \\bigg(\\sum_{i=1}^n|x_i - y_i|^p\\bigg)^{1/p}\n",
    "$$\n",
    "\n",
    "Minkowski distance is a generalization of Manhattan ($p=1$) and Euclidean ($p=2$) distances."
   ]
  },
  {
   "cell_type": "code",
   "execution_count": 73,
   "metadata": {},
   "outputs": [
    {
     "name": "stdout",
     "output_type": "stream",
     "text": [
      "instance:\n",
      "\tCRIM    :   0.09178\n",
      "\tZN      :       0.0\n",
      "\tINDUS   :      4.05\n",
      "\tCHAS    :       0.0\n",
      "\tNOX     :      0.51\n",
      "\tRM      :     6.416\n",
      "\tAGE     :      84.1\n",
      "\tDIS     :    2.6463\n",
      "\tRAD     :       5.0\n",
      "\tTAX     :     296.0\n",
      "\tPTRATIO :      16.6\n",
      "\tB       :     395.5\n",
      "\tLSTAT   :      9.04\n",
      "\n",
      "target (MEDV) : 23.6\n"
     ]
    }
   ],
   "source": [
    "# Find the distance between the given instance\n",
    "# and all points in the training set\n",
    "instance = X_test[0]\n",
    "target = y_test[0]\n",
    "\n",
    "print('instance:')\n",
    "for k, v in zip(boston['feature_names'], instance):\n",
    "    print(f'\\t{k:8}:{v:10}')\n",
    "    \n",
    "print('\\ntarget (MEDV) :', target)"
   ]
  },
  {
   "cell_type": "code",
   "execution_count": 67,
   "metadata": {},
   "outputs": [
    {
     "name": "stdout",
     "output_type": "stream",
     "text": [
      "p = 1: [122.30605 445.36903 139.0655  203.08867 227.72584]\n",
      "\n",
      "p = 2: [103.45453327 326.03031867  85.37387011 117.99457704 151.17716877]\n",
      "\n",
      "p = 3: [103.01958254 311.76333109  80.83718433 109.83115029 139.4861913 ]\n"
     ]
    }
   ],
   "source": [
    "# minkowski distances for p = 1, 2, 3\n",
    "dist1 = (np.abs(X_train - instance) ** 1).sum(axis=1) ** (1/1)\n",
    "dist2 = (np.abs(X_train - instance) ** 2).sum(axis=1) ** (1/2)\n",
    "dist3 = (np.abs(X_train - instance) ** 3).sum(axis=1) ** (1/3)\n",
    "\n",
    "print('p = 1:', dist1[:5])\n",
    "print()\n",
    "print('p = 2:', dist2[:5])\n",
    "print()\n",
    "print('p = 3:', dist3[:5])"
   ]
  },
  {
   "cell_type": "markdown",
   "metadata": {},
   "source": [
    "# The Closest K points"
   ]
  },
  {
   "cell_type": "code",
   "execution_count": 75,
   "metadata": {},
   "outputs": [],
   "source": [
    "k = 5\n",
    "\n",
    "dist1_sorted_indx = dist1.argsort()\n",
    "dist2_sorted_indx = dist2.argsort()\n",
    "dist3_sorted_indx = dist3.argsort()\n",
    "\n",
    "closest_k1 = dist1_sorted_indx[:k]\n",
    "closest_k2 = dist2_sorted_indx[:k]\n",
    "closest_k3 = dist3_sorted_indx[:k]"
   ]
  },
  {
   "cell_type": "code",
   "execution_count": 76,
   "metadata": {},
   "outputs": [
    {
     "data": {
      "text/plain": [
       "array([14.35973, 16.78836, 18.88991, 21.69842, 22.1781 ])"
      ]
     },
     "execution_count": 76,
     "metadata": {},
     "output_type": "execute_result"
    }
   ],
   "source": [
    "dist1[dist1_sorted_indx[:5]]"
   ]
  },
  {
   "cell_type": "code",
   "execution_count": 77,
   "metadata": {},
   "outputs": [
    {
     "name": "stdout",
     "output_type": "stream",
     "text": [
      "The indices of the closest 5 points.\n",
      "\n",
      "p = 1: [115 220 333 178 346]\n",
      "p = 2: [346 178 220 115 357]\n",
      "p = 3: [346 178 357 220 317]\n"
     ]
    }
   ],
   "source": [
    "print('The indices of the closest', k, 'points.\\n')\n",
    "print('p = 1:', closest_k1)\n",
    "print('p = 2:', closest_k2)\n",
    "print('p = 3:', closest_k3)"
   ]
  },
  {
   "cell_type": "code",
   "execution_count": 79,
   "metadata": {},
   "outputs": [
    {
     "name": "stdout",
     "output_type": "stream",
     "text": [
      "The targets of the closest 5 points.\n",
      "\n",
      "p = 1: [24.6 29.9 22.6 23.8 21.6]\n",
      "p = 2: [21.6 23.8 29.9 24.6 22.8]\n",
      "p = 3: [21.6 23.8 22.8 29.9 16.2]\n"
     ]
    }
   ],
   "source": [
    "print('The targets of the closest', k, 'points.\\n')\n",
    "print('p = 1:', y_train[closest_k1])\n",
    "print('p = 2:', y_train[closest_k2])\n",
    "print('p = 3:', y_train[closest_k3])"
   ]
  },
  {
   "cell_type": "markdown",
   "metadata": {},
   "source": [
    "# Making predictions\n",
    "\n",
    "The prediction is just average of the closest points targets."
   ]
  },
  {
   "cell_type": "code",
   "execution_count": 82,
   "metadata": {},
   "outputs": [
    {
     "name": "stdout",
     "output_type": "stream",
     "text": [
      "\n",
      "Prediction:\n",
      "\n",
      "    p = 1: 24.5\n",
      "    p = 2: 24.54\n",
      "    p = 3: 22.86\n",
      "\n"
     ]
    }
   ],
   "source": [
    "pred1 = y_train[closest_k1].mean()\n",
    "pred2 = y_train[closest_k2].mean()\n",
    "pred3 = y_train[closest_k3].mean()\n",
    "\n",
    "\n",
    "print(\n",
    "f'''\n",
    "Prediction:\n",
    "\n",
    "    p = 1: {pred1}\n",
    "    p = 2: {pred2}\n",
    "    p = 3: {pred3}\n",
    "''')\n"
   ]
  },
  {
   "cell_type": "code",
   "execution_count": null,
   "metadata": {},
   "outputs": [],
   "source": []
  }
 ],
 "metadata": {
  "kernelspec": {
   "display_name": "Data Science",
   "language": "python",
   "name": "data_science"
  },
  "language_info": {
   "codemirror_mode": {
    "name": "ipython",
    "version": 3
   },
   "file_extension": ".py",
   "mimetype": "text/x-python",
   "name": "python",
   "nbconvert_exporter": "python",
   "pygments_lexer": "ipython3",
   "version": "3.7.7"
  }
 },
 "nbformat": 4,
 "nbformat_minor": 4
}
