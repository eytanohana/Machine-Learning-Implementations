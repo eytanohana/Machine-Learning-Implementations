{
 "cells": [
  {
   "cell_type": "markdown",
   "metadata": {},
   "source": [
    "# K Nearest Neighbors Regression\n",
    "\n",
    "KNN regression makes a prediction for a new instance by taking the average target value for the k closest points."
   ]
  },
  {
   "cell_type": "code",
   "execution_count": 1,
   "metadata": {},
   "outputs": [],
   "source": [
    "import numpy as np\n",
    "import pandas as pd\n",
    "import matplotlib.pyplot as plt\n",
    "import seaborn as sns\n",
    "\n",
    "from sklearn.model_selection import train_test_split\n",
    "from sklearn.datasets import load_boston\n",
    "from warnings import filterwarnings\n",
    "\n",
    "filterwarnings('ignore')"
   ]
  },
  {
   "cell_type": "markdown",
   "metadata": {},
   "source": [
    "# Data Preparation"
   ]
  },
  {
   "cell_type": "code",
   "execution_count": 2,
   "metadata": {},
   "outputs": [
    {
     "data": {
      "text/plain": [
       "dict_keys(['data', 'target', 'feature_names', 'DESCR', 'filename'])"
      ]
     },
     "execution_count": 2,
     "metadata": {},
     "output_type": "execute_result"
    }
   ],
   "source": [
    "boston = load_boston()\n",
    "boston.keys()"
   ]
  },
  {
   "cell_type": "code",
   "execution_count": 3,
   "metadata": {},
   "outputs": [
    {
     "name": "stdout",
     "output_type": "stream",
     "text": [
      "\n",
      "Boston house prices dataset\n",
      "---------------------------\n",
      "\n",
      "**Data Set Characteristics:**  \n",
      "\n",
      "    :Number of Instances: 506 \n",
      "\n",
      "    :Number of Attributes: 13 numeric/categorical predictive. Median Value (attribute 14) is usually the target.\n",
      "\n",
      "    :Attribute Information (in order):\n",
      "        - CRIM     per capita crime rate by town\n",
      "        - ZN       proportion of residential land zoned for lots over 25,000 sq.ft.\n",
      "        - INDUS    proportion of non-retail business acres per town\n",
      "        - CHAS     Charles River dummy variable (= 1 if tract bounds river; 0 otherwise)\n",
      "        - NOX      nitric oxides concentration (parts per 10 million)\n",
      "        - RM       average number of rooms per dwelling\n",
      "        - AGE      proportion of owner-occupied units built prior to 1940\n",
      "        - DIS      weighted distances to five Boston employment centres\n",
      "        - RAD      index of accessibility to radial highways\n",
      "        - TAX      full-value property-tax rate per $10,000\n",
      "        - PTRATIO  pupil-teacher ratio by town\n",
      "        - B        1000(Bk - 0.63)^2 where Bk is the proportion of blacks by town\n",
      "        - LSTAT    % lower status of the population\n",
      "        - MEDV     Median value of owner-occupied homes in $1000's\n",
      "\n",
      "    :Missing Attribute Values: None\n",
      "\n",
      "\n"
     ]
    }
   ],
   "source": [
    "print(boston['DESCR'][20:1265])"
   ]
  },
  {
   "cell_type": "code",
   "execution_count": 4,
   "metadata": {},
   "outputs": [
    {
     "name": "stdout",
     "output_type": "stream",
     "text": [
      "(506, 13) (506,)\n"
     ]
    }
   ],
   "source": [
    "print(boston['data'].shape, boston['target'].shape)\n",
    "\n",
    "X = boston['data']\n",
    "y = boston['target']"
   ]
  },
  {
   "cell_type": "code",
   "execution_count": 5,
   "metadata": {},
   "outputs": [
    {
     "name": "stdout",
     "output_type": "stream",
     "text": [
      "X_train: (379, 13)\n",
      "X_test: (127, 13)\n",
      "\n",
      "y_train: (379,)\n",
      "y_test: (127,)\n"
     ]
    }
   ],
   "source": [
    "X_train, X_test, y_train, y_test = train_test_split(X, y, random_state=42)\n",
    "\n",
    "print('X_train:', X_train.shape)\n",
    "print('X_test:', X_test.shape)\n",
    "print()\n",
    "print('y_train:', y_train.shape)\n",
    "print('y_test:', y_test.shape)"
   ]
  },
  {
   "cell_type": "markdown",
   "metadata": {},
   "source": [
    "# Distance metrics\n",
    "\n",
    "Minkowski distance is a metric that measures the distance between two n-dimensional points.\n",
    "\n",
    "For $\\vec{x} = \\begin{pmatrix} x_1 \\\\ x_2 \\\\ \\vdots \\\\ x_n\\end{pmatrix} $ and $\\vec{y} = \\begin{pmatrix} y_1 \\\\ y_2 \\\\ \\vdots \\\\ y_n\\end{pmatrix}$ the Minkowski distance of order $p \\ge 1$  for $\\vec{x}$ and $\\vec{y}$ is given by:\n",
    "\n",
    "$$\n",
    "D(\\vec{x}, \\vec{y}) = \\bigg(\\sum_{i=1}^n|x_i - y_i|^p\\bigg)^{1/p}\n",
    "$$\n",
    "\n",
    "Minkowski distance is a generalization of Manhattan ($p=1$) and Euclidean ($p=2$) distances."
   ]
  },
  {
   "cell_type": "code",
   "execution_count": 6,
   "metadata": {},
   "outputs": [
    {
     "name": "stdout",
     "output_type": "stream",
     "text": [
      "instance:\n",
      "\tCRIM    :   0.09178\n",
      "\tZN      :       0.0\n",
      "\tINDUS   :      4.05\n",
      "\tCHAS    :       0.0\n",
      "\tNOX     :      0.51\n",
      "\tRM      :     6.416\n",
      "\tAGE     :      84.1\n",
      "\tDIS     :    2.6463\n",
      "\tRAD     :       5.0\n",
      "\tTAX     :     296.0\n",
      "\tPTRATIO :      16.6\n",
      "\tB       :     395.5\n",
      "\tLSTAT   :      9.04\n",
      "\n",
      "target (MEDV) : 23.6\n"
     ]
    }
   ],
   "source": [
    "# Find the distance between the given instance\n",
    "# and all points in the training set\n",
    "instance = X_test[0]\n",
    "target = y_test[0]\n",
    "\n",
    "print('instance:')\n",
    "for k, v in zip(boston['feature_names'], instance):\n",
    "    print(f'\\t{k:8}:{v:10}')\n",
    "    \n",
    "print('\\ntarget (MEDV) :', target)"
   ]
  },
  {
   "cell_type": "code",
   "execution_count": 7,
   "metadata": {},
   "outputs": [
    {
     "name": "stdout",
     "output_type": "stream",
     "text": [
      "p = 1: [122.30605 445.36903 139.0655  203.08867 227.72584]\n",
      "\n",
      "p = 2: [103.45453327 326.03031867  85.37387011 117.99457704 151.17716877]\n",
      "\n",
      "p = 3: [103.01958254 311.76333109  80.83718433 109.83115029 139.4861913 ]\n"
     ]
    }
   ],
   "source": [
    "# minkowski distances for p = 1, 2, 3\n",
    "dist1 = (np.abs(X_train - instance) ** 1).sum(axis=1) ** (1/1)\n",
    "dist2 = (np.abs(X_train - instance) ** 2).sum(axis=1) ** (1/2)\n",
    "dist3 = (np.abs(X_train - instance) ** 3).sum(axis=1) ** (1/3)\n",
    "\n",
    "print('p = 1:', dist1[:5])\n",
    "print()\n",
    "print('p = 2:', dist2[:5])\n",
    "print()\n",
    "print('p = 3:', dist3[:5])"
   ]
  },
  {
   "cell_type": "markdown",
   "metadata": {},
   "source": [
    "# The Closest K points"
   ]
  },
  {
   "cell_type": "code",
   "execution_count": 8,
   "metadata": {},
   "outputs": [],
   "source": [
    "k = 5\n",
    "\n",
    "dist1_sorted_indx = dist1.argsort()\n",
    "dist2_sorted_indx = dist2.argsort()\n",
    "dist3_sorted_indx = dist3.argsort()\n",
    "\n",
    "closest_k1 = dist1_sorted_indx[:k]\n",
    "closest_k2 = dist2_sorted_indx[:k]\n",
    "closest_k3 = dist3_sorted_indx[:k]"
   ]
  },
  {
   "cell_type": "code",
   "execution_count": 9,
   "metadata": {},
   "outputs": [
    {
     "data": {
      "text/plain": [
       "array([14.35973, 16.78836, 18.88991, 21.69842, 22.1781 ])"
      ]
     },
     "execution_count": 9,
     "metadata": {},
     "output_type": "execute_result"
    }
   ],
   "source": [
    "dist1[dist1_sorted_indx[:5]]"
   ]
  },
  {
   "cell_type": "code",
   "execution_count": 10,
   "metadata": {},
   "outputs": [
    {
     "name": "stdout",
     "output_type": "stream",
     "text": [
      "The indices of the closest 5 points.\n",
      "\n",
      "p = 1: [115 220 333 178 346]\n",
      "p = 2: [346 178 220 115 357]\n",
      "p = 3: [346 178 357 220 317]\n"
     ]
    }
   ],
   "source": [
    "print('The indices of the closest', k, 'points.\\n')\n",
    "print('p = 1:', closest_k1)\n",
    "print('p = 2:', closest_k2)\n",
    "print('p = 3:', closest_k3)"
   ]
  },
  {
   "cell_type": "code",
   "execution_count": 11,
   "metadata": {},
   "outputs": [
    {
     "name": "stdout",
     "output_type": "stream",
     "text": [
      "The targets of the closest 5 points.\n",
      "\n",
      "p = 1: [24.6 29.9 22.6 23.8 21.6]\n",
      "p = 2: [21.6 23.8 29.9 24.6 22.8]\n",
      "p = 3: [21.6 23.8 22.8 29.9 16.2]\n"
     ]
    }
   ],
   "source": [
    "print('The targets of the closest', k, 'points.\\n')\n",
    "print('p = 1:', y_train[closest_k1])\n",
    "print('p = 2:', y_train[closest_k2])\n",
    "print('p = 3:', y_train[closest_k3])"
   ]
  },
  {
   "cell_type": "markdown",
   "metadata": {},
   "source": [
    "# Making predictions\n",
    "\n",
    "The prediction is just average of the closest points targets."
   ]
  },
  {
   "cell_type": "code",
   "execution_count": 49,
   "metadata": {},
   "outputs": [
    {
     "name": "stdout",
     "output_type": "stream",
     "text": [
      "21.413385826771652\n",
      "8.368222251726307\n",
      "\n",
      "22.907915567282323\n",
      "9.41709782996042\n"
     ]
    },
    {
     "data": {
      "image/png": "[encoded data removed]",
      "text/plain": [
       "<Figure size 432x288 with 1 Axes>"
      ]
     },
     "metadata": {
      "needs_background": "light"
     },
     "output_type": "display_data"
    }
   ],
   "source": [
    "print(y_test.mean())\n",
    "print(y_test.std())\n",
    "print()\n",
    "print(y_train.mean())\n",
    "print(y_train.std())\n",
    "\n",
    "description = f'''y_test mean: {y_test.mean():.2f}\n",
    "y_test std: {y_test.std():.2f}\n",
    "\n",
    "y_train mean: {y_train.mean():.2f}\n",
    "y_train std: {y_train.std():.2f}'''\n",
    "\n",
    "fig = plt.figure()\n",
    "fig.text(0.6, .50, description)\n",
    "\n",
    "sns.distplot(y_test, color='red', label='test set')\n",
    "sns.distplot(y_train, color='blue', label='train set')\n",
    "plt.title('Distribution of MEDV')\n",
    "plt.legend();"
   ]
  },
  {
   "cell_type": "code",
   "execution_count": 13,
   "metadata": {},
   "outputs": [
    {
     "name": "stdout",
     "output_type": "stream",
     "text": [
      "\n",
      "Prediction:\n",
      "\n",
      "    p = 1: 24.5\n",
      "    p = 2: 24.54\n",
      "    p = 3: 22.86\n",
      "\n"
     ]
    }
   ],
   "source": [
    "pred1 = y_train[closest_k1].mean()\n",
    "pred2 = y_train[closest_k2].mean()\n",
    "pred3 = y_train[closest_k3].mean()\n",
    "\n",
    "\n",
    "print(\n",
    "f'''\n",
    "Prediction:\n",
    "\n",
    "    p = 1: {pred1}\n",
    "    p = 2: {pred2}\n",
    "    p = 3: {pred3}\n",
    "''')\n"
   ]
  },
  {
   "cell_type": "markdown",
   "metadata": {},
   "source": [
    "# Batch predictions"
   ]
  },
  {
   "cell_type": "code",
   "execution_count": 14,
   "metadata": {},
   "outputs": [
    {
     "data": {
      "text/plain": [
       "(127, 379)"
      ]
     },
     "execution_count": 14,
     "metadata": {},
     "output_type": "execute_result"
    }
   ],
   "source": [
    "p = 2\n",
    "\n",
    "# Every train instance - every test instance\n",
    "dist2 = (np.abs(X_train - X_test[:,np.newaxis,:]) ** p).sum(axis=2)\n",
    "# each row is an instance from X_test \n",
    "# each column is the distance from the instance \n",
    "# in X_test to each instance from X_train\n",
    "dist2.shape"
   ]
  },
  {
   "cell_type": "code",
   "execution_count": 15,
   "metadata": {},
   "outputs": [
    {
     "data": {
      "text/plain": [
       "array([[346, 178, 220, ..., 160,  59, 151],\n",
       "       [ 57, 141, 349, ..., 176,  59, 151],\n",
       "       [299,  43, 116, ...,   3, 201, 143],\n",
       "       ...,\n",
       "       [221, 288, 312, ..., 176,  59, 151],\n",
       "       [ 36, 244, 128, ..., 176,  59, 151],\n",
       "       [286, 146,  15, ..., 176,  59, 151]], dtype=int64)"
      ]
     },
     "execution_count": 15,
     "metadata": {},
     "output_type": "execute_result"
    }
   ],
   "source": [
    "# sort each row\n",
    "dist2_indx = dist2.argsort()\n",
    "dist2_indx"
   ]
  },
  {
   "cell_type": "code",
   "execution_count": 16,
   "metadata": {
    "scrolled": true
   },
   "outputs": [
    {
     "data": {
      "text/plain": [
       "array([[21.6, 23.8, 29.9, 24.6, 22.8],\n",
       "       [33.1, 32. , 33.2, 25. , 23.4],\n",
       "       [15.2, 20.1,  8.5, 16.7, 12.5],\n",
       "       [21.7, 46.7, 23.9, 23.1, 29.4],\n",
       "       [17.1, 21.7, 12.6, 17.7, 14.6],\n",
       "       [50. , 20.4, 17.5, 21.5, 50. ],\n",
       "       [17.5, 19.6, 16.2, 21.6, 23.8],\n",
       "       [13.3, 16.2, 18.4, 14.3, 18.1],\n",
       "       [20.2, 21.7, 17.7, 13.8, 16.7],\n",
       "       [17.5, 27.5, 19.3, 20.4, 21.2],\n",
       "       [23. , 19.3, 28.7, 23.9, 22. ],\n",
       "       [15. , 27.1, 17.5, 19.6, 21. ],\n",
       "       [ 8.4, 14.1, 13.4, 14.5, 11. ],\n",
       "       [21.7, 24.5, 21.2, 17.5, 23.1],\n",
       "       [29.9, 18.9, 22.6, 24.6, 22.5],\n",
       "       [19.1, 23.2, 20.6, 23.2, 25. ],\n",
       "       [20.5, 21.4, 17.3, 20.3, 15.7],\n",
       "       [11.9, 12.1, 13.9, 17.8, 14.6],\n",
       "       [37.3, 27.9, 44. , 34.9, 31.6],\n",
       "       [11.5, 13.3,  8.5, 12.5,  7.2],\n",
       "       [35.1, 25. , 23.4, 24.7, 21.1],\n",
       "       [33.1, 32. , 33.2, 23.4, 25. ],\n",
       "       [13.6, 16.6, 14.5, 21. , 18.2],\n",
       "       [20.6, 21.4, 18.9, 22. , 22.5],\n",
       "       [14.9, 16.7, 21.9, 27.9, 13. ],\n",
       "       [15.2, 19.9, 16.8, 50. , 13.9],\n",
       "       [24.5, 23.1, 21.7, 21.2, 24.1],\n",
       "       [13.4,  8.3, 13.5,  7.5, 19. ],\n",
       "       [19.3, 23. , 28.7, 22. , 23.9],\n",
       "       [17.5, 21.2, 27.5, 21.7, 19.3],\n",
       "       [23.8, 19.6, 26.7, 21.7, 21.6],\n",
       "       [23.1, 27.1, 22.2, 24.4, 20.3],\n",
       "       [12.7,  8.3,  7.2, 10.2, 13.1],\n",
       "       [50. , 50. , 17.8, 17.8, 14.6],\n",
       "       [27.9, 14.9, 16.7, 21.9,  6.3],\n",
       "       [25. , 17.4, 15.6, 23.8, 23.8],\n",
       "       [26.6, 22.2, 19.4, 21.6, 18.5],\n",
       "       [19. , 33.4, 20.6, 36.2, 22.2],\n",
       "       [20. , 22.4, 23.3, 24.4, 22.5],\n",
       "       [21.7, 46.7, 23.1, 23.9, 23.7],\n",
       "       [17.5, 21.2, 27.5, 19.3, 20.4],\n",
       "       [33.4, 28.4, 24.4, 20.7, 45.4],\n",
       "       [44. , 37.3, 50. , 27.9, 31.6],\n",
       "       [22. , 24.3, 17.5, 26.2, 22. ],\n",
       "       [28.7, 21.4, 22. , 33.2, 18.9],\n",
       "       [ 8.5, 12.5, 16.7, 11.5, 13.8],\n",
       "       [13.6, 16.6, 14.5, 21. , 18.2],\n",
       "       [21.7, 46.7, 23.1, 23.9, 29.4],\n",
       "       [20. , 19.5, 22.7, 19.1, 17.7],\n",
       "       [20.1, 22.2, 23.9, 18.7, 22.9],\n",
       "       [15. , 27.1, 30.1, 16.2, 23.8],\n",
       "       [35.1, 21.1, 36.1, 35.2, 46. ],\n",
       "       [15.6, 21.7, 19.6, 14.5, 18.4],\n",
       "       [27.5, 17.5, 21.2, 19.3, 20.4],\n",
       "       [22.8, 50. , 22.9, 22.9, 33.2],\n",
       "       [20.6, 21.8, 20.1, 23. , 21.4],\n",
       "       [ 8.5, 12.5, 11.5, 13.3, 16.7],\n",
       "       [37.3, 27.9, 34.9, 44. , 31.6],\n",
       "       [22.2, 26.6, 21.2, 19.3, 19.4],\n",
       "       [20.5, 22.9, 24.5, 20.1, 15. ],\n",
       "       [19.6, 22.9, 28. , 32.7, 23.3],\n",
       "       [27.9, 37.3, 44. , 50. , 34.9],\n",
       "       [46.7, 21.7, 23.1, 29.4, 23.9],\n",
       "       [14.8, 16.1, 13.5, 13.2, 23.7],\n",
       "       [29.8, 37. , 18.6, 30.5, 36.4],\n",
       "       [19.3, 23. , 23.9, 28.7, 22. ],\n",
       "       [ 8.5, 12.6, 15.4, 11.5, 13.3],\n",
       "       [28. , 23.3, 22.9, 19.6, 32.7],\n",
       "       [34.9, 27.9, 37.3, 44. , 31.1],\n",
       "       [13.5, 13.4, 19. ,  7.5,  8.3],\n",
       "       [19.3, 21.2, 20.6, 22.2, 19. ],\n",
       "       [25. , 23.2, 22.6, 19.1, 22.7],\n",
       "       [16.3, 14.9,  8.8, 20.8, 13.3],\n",
       "       [18.2, 23.5, 19.4, 42.3, 34.6],\n",
       "       [24.5, 21.7, 23.1, 21.2, 16.5],\n",
       "       [ 5.6, 10.5, 13.1,  8.3,  7.4],\n",
       "       [19.3, 19.4, 20.4, 19.5, 19.8],\n",
       "       [44. , 37.3, 50. , 27.9, 31.6],\n",
       "       [ 7.2, 10.2, 13.3, 12.7, 11.3],\n",
       "       [ 8.1, 15.2, 15.2, 19.9, 16.8],\n",
       "       [22. , 24.3, 17.5, 26.2, 22. ],\n",
       "       [14.9, 13.3, 13. , 16.7, 21.9],\n",
       "       [21.9, 33.3, 23.5, 18.2, 34.6],\n",
       "       [11.3, 12.8, 12.3, 13.3, 11.5],\n",
       "       [23.8, 19.6, 15.6, 26.7, 21.6],\n",
       "       [24. , 24.3, 31.7, 48.3, 41.7],\n",
       "       [14.9,  8.8, 20.8, 13.3, 13. ],\n",
       "       [22.2, 21. , 21.7, 23. , 25. ],\n",
       "       [28. , 23.3, 33.1, 22.9, 22.9],\n",
       "       [19.2, 18.1, 18. , 16.2, 17.8],\n",
       "       [22.2, 22.1, 27.1, 23.1, 21.7],\n",
       "       [23.1, 13.4, 14.3, 11. , 16.1],\n",
       "       [19.2, 18. , 18.1, 17.8, 14.3],\n",
       "       [17.5, 24.5, 20.5, 21.7, 24.3],\n",
       "       [21.9, 16.8, 50. , 19.9, 15.2],\n",
       "       [18.4, 16.2, 19.2, 17.4, 18.1],\n",
       "       [50. , 50. , 17.8, 15.2, 17.8],\n",
       "       [ 7.2,  7.5, 11.8,  8.3, 19. ],\n",
       "       [ 7.5,  7.2, 19. , 11.8,  8.3],\n",
       "       [11.8,  7.2,  7.5, 19. , 14.1],\n",
       "       [22.2, 26.6, 21.2, 19.3, 19.7],\n",
       "       [24.5, 21.7, 23.1, 21.2, 16.5],\n",
       "       [15.2, 13.9, 19.9, 16.8, 50. ],\n",
       "       [20.4, 21. , 22.1, 23.1, 19.8],\n",
       "       [23.7, 24.8, 23.3, 17.1, 22.2],\n",
       "       [13.5, 13.4,  8.3, 11.7,  7.5],\n",
       "       [23.1, 19.8, 31.5, 25.1, 20.3],\n",
       "       [23.9, 23. , 22.6, 24.7, 28.6],\n",
       "       [20.6, 22.2, 19.3, 19. , 33.4],\n",
       "       [21.9, 33.3, 34.6, 19.4, 18.2],\n",
       "       [ 8.3,  7.5, 13.4,  7.2, 13.5],\n",
       "       [16.3, 23.1, 13.4, 14.3, 11. ],\n",
       "       [22.2, 20.6, 21.2, 33.4, 19. ],\n",
       "       [37.2, 50. , 29.6, 22. , 26.4],\n",
       "       [31.7, 50. , 18.2, 48.3, 44.8],\n",
       "       [14.3, 13.4, 11. , 14.1, 14.5],\n",
       "       [37.9, 26.4, 32.5, 29.6, 37.2],\n",
       "       [14.8, 13.5, 16.1, 28.4, 13.2],\n",
       "       [21.7, 21.2, 24.5, 17.5, 23.1],\n",
       "       [23.7, 17.1, 23.3, 23.3, 24.8],\n",
       "       [20.5, 24.5, 31.7, 22.9, 24.3],\n",
       "       [26.2, 42.8, 29.6, 33.1, 26.4],\n",
       "       [15. , 10.9,  7.2,  8.3,  7.5],\n",
       "       [22.8, 18.5, 21.2, 18.8, 18.7],\n",
       "       [26.6, 24.7, 25. , 19.3, 23.4],\n",
       "       [23.1, 22.2, 27.1, 21.7, 24.4],\n",
       "       [24.1, 42.3, 19.4, 23.5, 18.2]])"
      ]
     },
     "execution_count": 16,
     "metadata": {},
     "output_type": "execute_result"
    }
   ],
   "source": [
    "# the classes of the closest 5 points\n",
    "closest5 = y_train[dist2_indx][:,:5]\n",
    "closest5"
   ]
  },
  {
   "cell_type": "code",
   "execution_count": 17,
   "metadata": {},
   "outputs": [
    {
     "data": {
      "text/plain": [
       "(127,)"
      ]
     },
     "execution_count": 17,
     "metadata": {},
     "output_type": "execute_result"
    }
   ],
   "source": [
    "predictions = closest5.mean(axis=1)\n",
    "predictions.shape"
   ]
  },
  {
   "cell_type": "code",
   "execution_count": 18,
   "metadata": {},
   "outputs": [
    {
     "data": {
      "text/plain": [
       "(127,)"
      ]
     },
     "execution_count": 18,
     "metadata": {},
     "output_type": "execute_result"
    }
   ],
   "source": [
    "y_test.shape"
   ]
  },
  {
   "cell_type": "code",
   "execution_count": null,
   "metadata": {},
   "outputs": [],
   "source": []
  }
 ],
 "metadata": {
  "kernelspec": {
   "display_name": "Data Science",
   "language": "python",
   "name": "data_science"
  },
  "language_info": {
   "codemirror_mode": {
    "name": "ipython",
    "version": 3
   },
   "file_extension": ".py",
   "mimetype": "text/x-python",
   "name": "python",
   "nbconvert_exporter": "python",
   "pygments_lexer": "ipython3",
   "version": "3.7.7"
  }
 },
 "nbformat": 4,
 "nbformat_minor": 4
}
