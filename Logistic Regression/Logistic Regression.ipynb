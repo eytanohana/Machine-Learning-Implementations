{
 "cells": [
  {
   "cell_type": "markdown",
   "metadata": {},
   "source": [
    "# Logistic regression\n",
    "\n",
    "This notebook aims to implement logistic regression in order to classify music pulled from my spotify account which I have classified as 1 for like and 0 for dislike."
   ]
  },
  {
   "cell_type": "code",
   "execution_count": 146,
   "metadata": {},
   "outputs": [
    {
     "name": "stdout",
     "output_type": "stream",
     "text": [
      "The autoreload extension is already loaded. To reload it, use:\n",
      "  %reload_ext autoreload\n"
     ]
    }
   ],
   "source": [
    "import numpy as np\n",
    "import pandas as pd\n",
    "import matplotlib.pyplot as plt\n",
    "from sklearn.model_selection import train_test_split\n",
    "from log_reg import *\n",
    "\n",
    "# make matplotlib figures appear inline in the notebook\n",
    "%matplotlib inline\n",
    "plt.rcParams['figure.figsize'] = (14.0, 8.0) # set default size of plots\n",
    "plt.rcParams['image.interpolation'] = 'nearest'\n",
    "plt.rcParams['image.cmap'] = 'gray'\n",
    "\n",
    "np.set_printoptions(precision=3)\n",
    "\n",
    "# make the notebook automatically reload external python modules\n",
    "%load_ext autoreload\n",
    "%autoreload 2"
   ]
  },
  {
   "cell_type": "markdown",
   "metadata": {},
   "source": [
    "## Data gathering\n",
    "\n",
    "First we must read the data from a csv into a [pandas DataFrame](https://pandas.pydata.org/pandas-docs/stable/reference/api/pandas.DataFrame.html) and get a sense of what all the data means. A complete list of what each feature means can be found [here](https://developer.spotify.com/documentation/web-api/reference/tracks/get-audio-features/)"
   ]
  },
  {
   "cell_type": "code",
   "execution_count": 147,
   "metadata": {},
   "outputs": [
    {
     "data": {
      "text/html": [
       "<div>\n",
       "<style scoped>\n",
       "    .dataframe tbody tr th:only-of-type {\n",
       "        vertical-align: middle;\n",
       "    }\n",
       "\n",
       "    .dataframe tbody tr th {\n",
       "        vertical-align: top;\n",
       "    }\n",
       "\n",
       "    .dataframe thead th {\n",
       "        text-align: right;\n",
       "    }\n",
       "</style>\n",
       "<table border=\"1\" class=\"dataframe\">\n",
       "  <thead>\n",
       "    <tr style=\"text-align: right;\">\n",
       "      <th></th>\n",
       "      <th>name</th>\n",
       "      <th>acousticness</th>\n",
       "      <th>analysis_url</th>\n",
       "      <th>danceability</th>\n",
       "      <th>duration_ms</th>\n",
       "      <th>energy</th>\n",
       "      <th>id</th>\n",
       "      <th>instrumentalness</th>\n",
       "      <th>key</th>\n",
       "      <th>liveness</th>\n",
       "      <th>loudness</th>\n",
       "      <th>mode</th>\n",
       "      <th>speechiness</th>\n",
       "      <th>tempo</th>\n",
       "      <th>time_signature</th>\n",
       "      <th>track_href</th>\n",
       "      <th>type</th>\n",
       "      <th>uri</th>\n",
       "      <th>valence</th>\n",
       "      <th>like</th>\n",
       "    </tr>\n",
       "  </thead>\n",
       "  <tbody>\n",
       "    <tr>\n",
       "      <th>0</th>\n",
       "      <td>Marry Me</td>\n",
       "      <td>0.113</td>\n",
       "      <td>https://api.spotify.com/v1/audio-analysis/0OWZ...</td>\n",
       "      <td>0.588</td>\n",
       "      <td>205453</td>\n",
       "      <td>0.408</td>\n",
       "      <td>0OWZFobGSIW9GrSlQ9C5pc</td>\n",
       "      <td>0.000000</td>\n",
       "      <td>3</td>\n",
       "      <td>0.1300</td>\n",
       "      <td>-8.662</td>\n",
       "      <td>1</td>\n",
       "      <td>0.0237</td>\n",
       "      <td>85.008</td>\n",
       "      <td>4</td>\n",
       "      <td>https://api.spotify.com/v1/tracks/0OWZFobGSIW9...</td>\n",
       "      <td>audio_features</td>\n",
       "      <td>spotify:track:0OWZFobGSIW9GrSlQ9C5pc</td>\n",
       "      <td>0.4840</td>\n",
       "      <td>1.0</td>\n",
       "    </tr>\n",
       "    <tr>\n",
       "      <th>1</th>\n",
       "      <td>Is It Really Me You're Missing</td>\n",
       "      <td>0.653</td>\n",
       "      <td>https://api.spotify.com/v1/audio-analysis/1WO6...</td>\n",
       "      <td>0.535</td>\n",
       "      <td>232800</td>\n",
       "      <td>0.297</td>\n",
       "      <td>1WO6kvO7P8TOsuhBaqun5w</td>\n",
       "      <td>0.000000</td>\n",
       "      <td>6</td>\n",
       "      <td>0.1180</td>\n",
       "      <td>-6.043</td>\n",
       "      <td>1</td>\n",
       "      <td>0.0665</td>\n",
       "      <td>147.569</td>\n",
       "      <td>4</td>\n",
       "      <td>https://api.spotify.com/v1/tracks/1WO6kvO7P8TO...</td>\n",
       "      <td>audio_features</td>\n",
       "      <td>spotify:track:1WO6kvO7P8TOsuhBaqun5w</td>\n",
       "      <td>0.0492</td>\n",
       "      <td>1.0</td>\n",
       "    </tr>\n",
       "    <tr>\n",
       "      <th>2</th>\n",
       "      <td>Hollow Crown</td>\n",
       "      <td>0.103</td>\n",
       "      <td>https://api.spotify.com/v1/audio-analysis/15ba...</td>\n",
       "      <td>0.620</td>\n",
       "      <td>171320</td>\n",
       "      <td>0.564</td>\n",
       "      <td>15baNmdl3WSqSKnT0YDG2v</td>\n",
       "      <td>0.000000</td>\n",
       "      <td>8</td>\n",
       "      <td>0.0735</td>\n",
       "      <td>-7.090</td>\n",
       "      <td>1</td>\n",
       "      <td>0.0392</td>\n",
       "      <td>150.034</td>\n",
       "      <td>4</td>\n",
       "      <td>https://api.spotify.com/v1/tracks/15baNmdl3WSq...</td>\n",
       "      <td>audio_features</td>\n",
       "      <td>spotify:track:15baNmdl3WSqSKnT0YDG2v</td>\n",
       "      <td>0.3010</td>\n",
       "      <td>1.0</td>\n",
       "    </tr>\n",
       "    <tr>\n",
       "      <th>3</th>\n",
       "      <td>A Big World</td>\n",
       "      <td>0.312</td>\n",
       "      <td>https://api.spotify.com/v1/audio-analysis/4vhW...</td>\n",
       "      <td>0.394</td>\n",
       "      <td>186681</td>\n",
       "      <td>0.505</td>\n",
       "      <td>4vhW66VGfINDEOssckYMIW</td>\n",
       "      <td>0.000000</td>\n",
       "      <td>7</td>\n",
       "      <td>0.2680</td>\n",
       "      <td>-7.638</td>\n",
       "      <td>1</td>\n",
       "      <td>0.0473</td>\n",
       "      <td>109.446</td>\n",
       "      <td>4</td>\n",
       "      <td>https://api.spotify.com/v1/tracks/4vhW66VGfIND...</td>\n",
       "      <td>audio_features</td>\n",
       "      <td>spotify:track:4vhW66VGfINDEOssckYMIW</td>\n",
       "      <td>0.2550</td>\n",
       "      <td>1.0</td>\n",
       "    </tr>\n",
       "    <tr>\n",
       "      <th>4</th>\n",
       "      <td>Roman Sky</td>\n",
       "      <td>0.139</td>\n",
       "      <td>https://api.spotify.com/v1/audio-analysis/1hy6...</td>\n",
       "      <td>0.455</td>\n",
       "      <td>300361</td>\n",
       "      <td>0.420</td>\n",
       "      <td>1hy6eKT3JRhi3ODXpL8Ubu</td>\n",
       "      <td>0.000033</td>\n",
       "      <td>2</td>\n",
       "      <td>0.1010</td>\n",
       "      <td>-8.731</td>\n",
       "      <td>0</td>\n",
       "      <td>0.0297</td>\n",
       "      <td>130.045</td>\n",
       "      <td>4</td>\n",
       "      <td>https://api.spotify.com/v1/tracks/1hy6eKT3JRhi...</td>\n",
       "      <td>audio_features</td>\n",
       "      <td>spotify:track:1hy6eKT3JRhi3ODXpL8Ubu</td>\n",
       "      <td>0.1010</td>\n",
       "      <td>1.0</td>\n",
       "    </tr>\n",
       "  </tbody>\n",
       "</table>\n",
       "</div>"
      ],
      "text/plain": [
       "                             name  acousticness  \\\n",
       "0                        Marry Me         0.113   \n",
       "1  Is It Really Me You're Missing         0.653   \n",
       "2                    Hollow Crown         0.103   \n",
       "3                     A Big World         0.312   \n",
       "4                       Roman Sky         0.139   \n",
       "\n",
       "                                        analysis_url  danceability  \\\n",
       "0  https://api.spotify.com/v1/audio-analysis/0OWZ...         0.588   \n",
       "1  https://api.spotify.com/v1/audio-analysis/1WO6...         0.535   \n",
       "2  https://api.spotify.com/v1/audio-analysis/15ba...         0.620   \n",
       "3  https://api.spotify.com/v1/audio-analysis/4vhW...         0.394   \n",
       "4  https://api.spotify.com/v1/audio-analysis/1hy6...         0.455   \n",
       "\n",
       "   duration_ms  energy                      id  instrumentalness  key  \\\n",
       "0       205453   0.408  0OWZFobGSIW9GrSlQ9C5pc          0.000000    3   \n",
       "1       232800   0.297  1WO6kvO7P8TOsuhBaqun5w          0.000000    6   \n",
       "2       171320   0.564  15baNmdl3WSqSKnT0YDG2v          0.000000    8   \n",
       "3       186681   0.505  4vhW66VGfINDEOssckYMIW          0.000000    7   \n",
       "4       300361   0.420  1hy6eKT3JRhi3ODXpL8Ubu          0.000033    2   \n",
       "\n",
       "   liveness  loudness  mode  speechiness    tempo  time_signature  \\\n",
       "0    0.1300    -8.662     1       0.0237   85.008               4   \n",
       "1    0.1180    -6.043     1       0.0665  147.569               4   \n",
       "2    0.0735    -7.090     1       0.0392  150.034               4   \n",
       "3    0.2680    -7.638     1       0.0473  109.446               4   \n",
       "4    0.1010    -8.731     0       0.0297  130.045               4   \n",
       "\n",
       "                                          track_href            type  \\\n",
       "0  https://api.spotify.com/v1/tracks/0OWZFobGSIW9...  audio_features   \n",
       "1  https://api.spotify.com/v1/tracks/1WO6kvO7P8TO...  audio_features   \n",
       "2  https://api.spotify.com/v1/tracks/15baNmdl3WSq...  audio_features   \n",
       "3  https://api.spotify.com/v1/tracks/4vhW66VGfIND...  audio_features   \n",
       "4  https://api.spotify.com/v1/tracks/1hy6eKT3JRhi...  audio_features   \n",
       "\n",
       "                                    uri  valence  like  \n",
       "0  spotify:track:0OWZFobGSIW9GrSlQ9C5pc   0.4840   1.0  \n",
       "1  spotify:track:1WO6kvO7P8TOsuhBaqun5w   0.0492   1.0  \n",
       "2  spotify:track:15baNmdl3WSqSKnT0YDG2v   0.3010   1.0  \n",
       "3  spotify:track:4vhW66VGfINDEOssckYMIW   0.2550   1.0  \n",
       "4  spotify:track:1hy6eKT3JRhi3ODXpL8Ubu   0.1010   1.0  "
      ]
     },
     "execution_count": 147,
     "metadata": {},
     "output_type": "execute_result"
    }
   ],
   "source": [
    "df = pd.read_csv('data.csv')\n",
    "df.head()"
   ]
  },
  {
   "cell_type": "code",
   "execution_count": 148,
   "metadata": {},
   "outputs": [],
   "source": [
    "df.drop(columns=['analysis_url', 'id', 'track_href', 'type', 'uri', 'name'], inplace=True)"
   ]
  },
  {
   "cell_type": "code",
   "execution_count": 149,
   "metadata": {},
   "outputs": [
    {
     "data": {
      "text/html": [
       "<div>\n",
       "<style scoped>\n",
       "    .dataframe tbody tr th:only-of-type {\n",
       "        vertical-align: middle;\n",
       "    }\n",
       "\n",
       "    .dataframe tbody tr th {\n",
       "        vertical-align: top;\n",
       "    }\n",
       "\n",
       "    .dataframe thead th {\n",
       "        text-align: right;\n",
       "    }\n",
       "</style>\n",
       "<table border=\"1\" class=\"dataframe\">\n",
       "  <thead>\n",
       "    <tr style=\"text-align: right;\">\n",
       "      <th></th>\n",
       "      <th>acousticness</th>\n",
       "      <th>danceability</th>\n",
       "      <th>duration_ms</th>\n",
       "      <th>energy</th>\n",
       "      <th>instrumentalness</th>\n",
       "      <th>key</th>\n",
       "      <th>liveness</th>\n",
       "      <th>loudness</th>\n",
       "      <th>mode</th>\n",
       "      <th>speechiness</th>\n",
       "      <th>tempo</th>\n",
       "      <th>time_signature</th>\n",
       "      <th>valence</th>\n",
       "      <th>like</th>\n",
       "    </tr>\n",
       "  </thead>\n",
       "  <tbody>\n",
       "    <tr>\n",
       "      <th>0</th>\n",
       "      <td>0.113</td>\n",
       "      <td>0.588</td>\n",
       "      <td>205453</td>\n",
       "      <td>0.408</td>\n",
       "      <td>0.000000</td>\n",
       "      <td>3</td>\n",
       "      <td>0.1300</td>\n",
       "      <td>-8.662</td>\n",
       "      <td>1</td>\n",
       "      <td>0.0237</td>\n",
       "      <td>85.008</td>\n",
       "      <td>4</td>\n",
       "      <td>0.4840</td>\n",
       "      <td>1.0</td>\n",
       "    </tr>\n",
       "    <tr>\n",
       "      <th>1</th>\n",
       "      <td>0.653</td>\n",
       "      <td>0.535</td>\n",
       "      <td>232800</td>\n",
       "      <td>0.297</td>\n",
       "      <td>0.000000</td>\n",
       "      <td>6</td>\n",
       "      <td>0.1180</td>\n",
       "      <td>-6.043</td>\n",
       "      <td>1</td>\n",
       "      <td>0.0665</td>\n",
       "      <td>147.569</td>\n",
       "      <td>4</td>\n",
       "      <td>0.0492</td>\n",
       "      <td>1.0</td>\n",
       "    </tr>\n",
       "    <tr>\n",
       "      <th>2</th>\n",
       "      <td>0.103</td>\n",
       "      <td>0.620</td>\n",
       "      <td>171320</td>\n",
       "      <td>0.564</td>\n",
       "      <td>0.000000</td>\n",
       "      <td>8</td>\n",
       "      <td>0.0735</td>\n",
       "      <td>-7.090</td>\n",
       "      <td>1</td>\n",
       "      <td>0.0392</td>\n",
       "      <td>150.034</td>\n",
       "      <td>4</td>\n",
       "      <td>0.3010</td>\n",
       "      <td>1.0</td>\n",
       "    </tr>\n",
       "    <tr>\n",
       "      <th>3</th>\n",
       "      <td>0.312</td>\n",
       "      <td>0.394</td>\n",
       "      <td>186681</td>\n",
       "      <td>0.505</td>\n",
       "      <td>0.000000</td>\n",
       "      <td>7</td>\n",
       "      <td>0.2680</td>\n",
       "      <td>-7.638</td>\n",
       "      <td>1</td>\n",
       "      <td>0.0473</td>\n",
       "      <td>109.446</td>\n",
       "      <td>4</td>\n",
       "      <td>0.2550</td>\n",
       "      <td>1.0</td>\n",
       "    </tr>\n",
       "    <tr>\n",
       "      <th>4</th>\n",
       "      <td>0.139</td>\n",
       "      <td>0.455</td>\n",
       "      <td>300361</td>\n",
       "      <td>0.420</td>\n",
       "      <td>0.000033</td>\n",
       "      <td>2</td>\n",
       "      <td>0.1010</td>\n",
       "      <td>-8.731</td>\n",
       "      <td>0</td>\n",
       "      <td>0.0297</td>\n",
       "      <td>130.045</td>\n",
       "      <td>4</td>\n",
       "      <td>0.1010</td>\n",
       "      <td>1.0</td>\n",
       "    </tr>\n",
       "  </tbody>\n",
       "</table>\n",
       "</div>"
      ],
      "text/plain": [
       "   acousticness  danceability  duration_ms  energy  instrumentalness  key  \\\n",
       "0         0.113         0.588       205453   0.408          0.000000    3   \n",
       "1         0.653         0.535       232800   0.297          0.000000    6   \n",
       "2         0.103         0.620       171320   0.564          0.000000    8   \n",
       "3         0.312         0.394       186681   0.505          0.000000    7   \n",
       "4         0.139         0.455       300361   0.420          0.000033    2   \n",
       "\n",
       "   liveness  loudness  mode  speechiness    tempo  time_signature  valence  \\\n",
       "0    0.1300    -8.662     1       0.0237   85.008               4   0.4840   \n",
       "1    0.1180    -6.043     1       0.0665  147.569               4   0.0492   \n",
       "2    0.0735    -7.090     1       0.0392  150.034               4   0.3010   \n",
       "3    0.2680    -7.638     1       0.0473  109.446               4   0.2550   \n",
       "4    0.1010    -8.731     0       0.0297  130.045               4   0.1010   \n",
       "\n",
       "   like  \n",
       "0   1.0  \n",
       "1   1.0  \n",
       "2   1.0  \n",
       "3   1.0  \n",
       "4   1.0  "
      ]
     },
     "execution_count": 149,
     "metadata": {},
     "output_type": "execute_result"
    }
   ],
   "source": [
    "df.head()"
   ]
  },
  {
   "cell_type": "markdown",
   "metadata": {},
   "source": [
    "## The Sigmoid function\n",
    "\n",
    "In logistic regression, rather than trying to predict continuous values like in linear regression, we try to predict the class of an instance. In this case the class is whether I like a song or not (a 1 or a 0 respectively). Therefore we use the sigmoid function which we can use as a probability for which class we belong to.\n",
    "\n",
    "The Sigmoid function: \n",
    "$$\n",
    "S(x) = \\frac{1}{1 + e^{-x}}\n",
    "$$"
   ]
  },
  {
   "cell_type": "code",
   "execution_count": 150,
   "metadata": {},
   "outputs": [
    {
     "data": {
      "image/png": "[encoded data removed]",
      "text/plain": [
       "<Figure size 720x360 with 1 Axes>"
      ]
     },
     "metadata": {
      "needs_background": "light"
     },
     "output_type": "display_data"
    }
   ],
   "source": [
    "x = np.linspace(-10, 10)\n",
    "y = sigmoid(x)\n",
    "\n",
    "plt.figure(figsize=(10,5))\n",
    "plt.plot(x, y);\n",
    "plt.scatter(0, .5, color='black')\n",
    "plt.axhline(y=.5,xmin=0, xmax=0.5, color='red', linestyle='--')\n",
    "plt.axvline(x=0, ymin=0, ymax=.5, color='red', linestyle='--');"
   ]
  },
  {
   "cell_type": "markdown",
   "metadata": {},
   "source": [
    "As we can see there are some nice properties to the sigmoid function such as its range is **(0,1)** which allows us to map instances to a probability of belonging to either class 0 or class 1. Just as in Linear Regression we will try to learn the paramteters of a linear prediction function: \n",
    "$$\n",
    "\\hat{y} = h_\\theta(x) = \\theta^T x = \\theta_0 + \\theta_1 x_1\n",
    "$$\n",
    "\n",
    "But now that we are trying to predict the class we will apply the sigmoid function to our hypothesis. So our new hypothesis will be:\n",
    "$$\n",
    "h_\\theta(x) = S(\\theta^T x) = \\frac{1}{1 + e^{-\\theta^T x}}\n",
    "$$\n",
    "\n",
    "\n",
    "and our decision rule will be pred class 1 if $S(\\theta^T x) >= .5$ otherwise class 0."
   ]
  },
  {
   "cell_type": "code",
   "execution_count": 151,
   "metadata": {},
   "outputs": [],
   "source": [
    "X_train, X_test, y_train, y_test = train_test_split(df.iloc[:,:-1].values, df.like.values, test_size=.30)"
   ]
  },
  {
   "cell_type": "code",
   "execution_count": 152,
   "metadata": {},
   "outputs": [
    {
     "data": {
      "text/plain": [
       "((336, 13), (336,))"
      ]
     },
     "execution_count": 152,
     "metadata": {},
     "output_type": "execute_result"
    }
   ],
   "source": [
    "X_train.shape, y_train.shape"
   ]
  },
  {
   "cell_type": "markdown",
   "metadata": {},
   "source": [
    "## Preprocessing and bias trick\n",
    "\n",
    "As the number of features grows, calculating gradients gets computationally expensive. We can speed this up by normalizing the input data to ensure all values are within the same range. This is especially important for datasets with high standard deviations or differences in the ranges of the attributes. We can do this by either min-max scaling or mean normalization. Both will scale the features down to the range **[0,1]** while mean normalization will also ensure the features have a standard deviation of 1\n",
    "\n",
    "As in Linear Regression we must make sure that `X` takes into consideration the bias $\\theta_0$ in the linear model. Recall that the predications of our linear model are of the form:\n",
    "\n",
    "$$\n",
    "\\hat{y} = \\theta^T x = \\theta_0 + \\theta_1 x_1 + \\theta_2 x_2 + ... + \\theta_n x_n \n",
    "$$\n",
    "\n",
    "Add columns of ones as the zeroth column of `X`."
   ]
  },
  {
   "cell_type": "code",
   "execution_count": 153,
   "metadata": {},
   "outputs": [],
   "source": [
    "# First we preprocess the X sets then we add the column of ones\n",
    "# X_train= min_max_scale(X_train)\n",
    "# X_test = min_max_scale(X_test)\n",
    "\n",
    "X_train= standaradize(X_train)\n",
    "X_test = standaradize(X_test)\n",
    "\n",
    "X_train = np.column_stack((np.ones(X_train.shape[0]), X_train))\n",
    "X_test = np.column_stack((np.ones(X_test.shape[0]), X_test))"
   ]
  },
  {
   "cell_type": "markdown",
   "metadata": {},
   "source": [
    "## Gradient Descent \n",
    "\n",
    "Our task is to find the best possible line that explains all the points in our dataset when mapped to the sigmoid function. We start by guessing initial values for the linear regression parameters $\\theta$ and updating the values using gradient descent. \n",
    "\n",
    "The objective of logistic regression is to minimize the cost function $J$:\n",
    "\n",
    "$$\n",
    "J(\\theta) = -\\frac{1}{m} \\sum_{i=1}^{m}[y^{(i)}\\ln{(h_\\theta(x^{(i)}))} + (1 - y^{(i)})\\ln{(1 - h_\\theta(x^{(i)}))}]\n",
    "$$\n",
    "\n",
    "where the hypothesis (model) $h_\\theta(x)$ is given by a **linear** model:\n",
    "\n",
    "$$\n",
    "h_\\theta(x) = S(\\theta^T x) = \\frac{1}{1 + e^{-\\theta^T x}}\n",
    "$$\n",
    "\n",
    "$\\theta_j$ are the parameters of your model and by changing those values accordingly, you will be able to lower the cost function $J(\\theta)$. One way to accopmlish this is to use gradient descent:\n",
    "\n",
    "$$\n",
    "\\theta_j = \\theta_j - \\alpha \\frac{1}{m} \\sum_{i=1}^m (h_\\theta(x^{(i)})-y^{(i)})x_j^{(i)}\n",
    "$$\n"
   ]
  },
  {
   "cell_type": "code",
   "execution_count": 159,
   "metadata": {},
   "outputs": [
    {
     "data": {
      "text/plain": [
       "array([0.225, 0.196, 0.141, 0.622, 0.781, 0.578, 0.147, 0.811, 0.636,\n",
       "       0.388, 0.674, 0.26 , 0.345, 0.917])"
      ]
     },
     "execution_count": 159,
     "metadata": {},
     "output_type": "execute_result"
    }
   ],
   "source": [
    "theta = np.random.random(size=X_train.shape[1])\n",
    "theta"
   ]
  },
  {
   "cell_type": "code",
   "execution_count": 160,
   "metadata": {},
   "outputs": [
    {
     "data": {
      "text/plain": [
       "1.5162800095736888"
      ]
     },
     "execution_count": 160,
     "metadata": {},
     "output_type": "execute_result"
    }
   ],
   "source": [
    "compute_cost(X_train, y_train, theta)"
   ]
  },
  {
   "cell_type": "code",
   "execution_count": 161,
   "metadata": {
    "scrolled": false
   },
   "outputs": [
    {
     "data": {
      "text/plain": [
       "array([ 0.577,  0.266,  0.594,  0.013, -1.579,  0.042,  0.028,  0.052,\n",
       "        0.153, -0.43 ,  0.122,  0.019,  0.153, -0.483])"
      ]
     },
     "execution_count": 161,
     "metadata": {},
     "output_type": "execute_result"
    }
   ],
   "source": [
    "theta, j_history = gradient_descent(X_train, y_train, theta, .03, 40_000)\n",
    "theta"
   ]
  },
  {
   "cell_type": "markdown",
   "metadata": {},
   "source": [
    "### Plotting the results\n",
    "\n",
    "After we train the model and get the best theta we can plot the cost as a function of each new iteration improving theta."
   ]
  },
  {
   "cell_type": "code",
   "execution_count": 162,
   "metadata": {},
   "outputs": [
    {
     "data": {
      "image/png": "[encoded data removed]",
      "text/plain": [
       "<Figure size 1008x576 with 1 Axes>"
      ]
     },
     "metadata": {
      "needs_background": "light"
     },
     "output_type": "display_data"
    }
   ],
   "source": [
    "plt.plot(j_history)\n",
    "plt.title('Cost as a function of iterations')\n",
    "plt.xlabel('Iterations')\n",
    "plt.ylabel('Cost')\n",
    "plt.grid(linestyle='-.')"
   ]
  },
  {
   "cell_type": "code",
   "execution_count": 163,
   "metadata": {},
   "outputs": [
    {
     "data": {
      "text/plain": [
       "76.39"
      ]
     },
     "execution_count": 163,
     "metadata": {},
     "output_type": "execute_result"
    }
   ],
   "source": [
    "compute_accuracy(X_test, y_test, theta)"
   ]
  },
  {
   "cell_type": "code",
   "execution_count": null,
   "metadata": {},
   "outputs": [],
   "source": []
  }
 ],
 "metadata": {
  "kernelspec": {
   "display_name": "Python 3",
   "language": "python",
   "name": "python3"
  },
  "language_info": {
   "codemirror_mode": {
    "name": "ipython",
    "version": 3
   },
   "file_extension": ".py",
   "mimetype": "text/x-python",
   "name": "python",
   "nbconvert_exporter": "python",
   "pygments_lexer": "ipython3",
   "version": "3.7.1"
  }
 },
 "nbformat": 4,
 "nbformat_minor": 2
}
