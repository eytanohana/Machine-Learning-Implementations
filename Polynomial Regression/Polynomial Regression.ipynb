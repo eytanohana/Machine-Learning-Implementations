{
 "cells": [
  {
   "cell_type": "code",
   "execution_count": 17,
   "metadata": {},
   "outputs": [
    {
     "name": "stdout",
     "output_type": "stream",
     "text": [
      "The autoreload extension is already loaded. To reload it, use:\n",
      "  %reload_ext autoreload\n"
     ]
    }
   ],
   "source": [
    "import numpy as np\n",
    "import pandas as pd\n",
    "import matplotlib.pyplot as plt\n",
    "from poly_reg import *\n",
    "\n",
    "# make matplotlib figures appear inline in the notebook\n",
    "%matplotlib inline\n",
    "plt.rcParams['figure.figsize'] = (14.0, 8.0) # set default size of plots\n",
    "plt.rcParams['image.interpolation'] = 'nearest'\n",
    "plt.rcParams['image.cmap'] = 'gray'\n",
    "\n",
    "# make the notebook automatically reload external python modules\n",
    "%load_ext autoreload\n",
    "%autoreload 2"
   ]
  },
  {
   "cell_type": "code",
   "execution_count": 18,
   "metadata": {},
   "outputs": [],
   "source": [
    "x = np.linspace(-5, 5, 100)\n",
    "data = x**2 +  np.random.normal(loc=0, scale=3, size=len(x))"
   ]
  },
  {
   "cell_type": "code",
   "execution_count": 19,
   "metadata": {},
   "outputs": [
    {
     "data": {
      "image/png": "[encoded data removed]",
      "text/plain": [
       "<Figure size 1008x576 with 1 Axes>"
      ]
     },
     "metadata": {
      "needs_background": "light"
     },
     "output_type": "display_data"
    }
   ],
   "source": [
    "plt.scatter(x, data)\n",
    "plt.plot(x, x**2, linestyle='--', color='red');"
   ]
  },
  {
   "cell_type": "code",
   "execution_count": 20,
   "metadata": {
    "scrolled": true
   },
   "outputs": [
    {
     "data": {
      "text/plain": [
       "array([[1.00000000e+00, 2.50000000e+01],\n",
       "       [1.00000000e+00, 2.40001020e+01],\n",
       "       [1.00000000e+00, 2.30206101e+01],\n",
       "       [1.00000000e+00, 2.20615243e+01],\n",
       "       [1.00000000e+00, 2.11228446e+01],\n",
       "       [1.00000000e+00, 2.02045710e+01],\n",
       "       [1.00000000e+00, 1.93067034e+01],\n",
       "       [1.00000000e+00, 1.84292419e+01],\n",
       "       [1.00000000e+00, 1.75721865e+01],\n",
       "       [1.00000000e+00, 1.67355372e+01],\n",
       "       [1.00000000e+00, 1.59192939e+01],\n",
       "       [1.00000000e+00, 1.51234568e+01],\n",
       "       [1.00000000e+00, 1.43480257e+01],\n",
       "       [1.00000000e+00, 1.35930007e+01],\n",
       "       [1.00000000e+00, 1.28583818e+01],\n",
       "       [1.00000000e+00, 1.21441690e+01],\n",
       "       [1.00000000e+00, 1.14503622e+01],\n",
       "       [1.00000000e+00, 1.07769615e+01],\n",
       "       [1.00000000e+00, 1.01239669e+01],\n",
       "       [1.00000000e+00, 9.49137843e+00],\n",
       "       [1.00000000e+00, 8.87919600e+00],\n",
       "       [1.00000000e+00, 8.28741965e+00],\n",
       "       [1.00000000e+00, 7.71604938e+00],\n",
       "       [1.00000000e+00, 7.16508520e+00],\n",
       "       [1.00000000e+00, 6.63452709e+00],\n",
       "       [1.00000000e+00, 6.12437506e+00],\n",
       "       [1.00000000e+00, 5.63462912e+00],\n",
       "       [1.00000000e+00, 5.16528926e+00],\n",
       "       [1.00000000e+00, 4.71635547e+00],\n",
       "       [1.00000000e+00, 4.28782777e+00],\n",
       "       [1.00000000e+00, 3.87970615e+00],\n",
       "       [1.00000000e+00, 3.49199061e+00],\n",
       "       [1.00000000e+00, 3.12468115e+00],\n",
       "       [1.00000000e+00, 2.77777778e+00],\n",
       "       [1.00000000e+00, 2.45128048e+00],\n",
       "       [1.00000000e+00, 2.14518927e+00],\n",
       "       [1.00000000e+00, 1.85950413e+00],\n",
       "       [1.00000000e+00, 1.59422508e+00],\n",
       "       [1.00000000e+00, 1.34935211e+00],\n",
       "       [1.00000000e+00, 1.12488522e+00],\n",
       "       [1.00000000e+00, 9.20824406e-01],\n",
       "       [1.00000000e+00, 7.37169677e-01],\n",
       "       [1.00000000e+00, 5.73921028e-01],\n",
       "       [1.00000000e+00, 4.31078461e-01],\n",
       "       [1.00000000e+00, 3.08641975e-01],\n",
       "       [1.00000000e+00, 2.06611570e-01],\n",
       "       [1.00000000e+00, 1.24987246e-01],\n",
       "       [1.00000000e+00, 6.37690032e-02],\n",
       "       [1.00000000e+00, 2.29568411e-02],\n",
       "       [1.00000000e+00, 2.55076013e-03],\n",
       "       [1.00000000e+00, 2.55076013e-03],\n",
       "       [1.00000000e+00, 2.29568411e-02],\n",
       "       [1.00000000e+00, 6.37690032e-02],\n",
       "       [1.00000000e+00, 1.24987246e-01],\n",
       "       [1.00000000e+00, 2.06611570e-01],\n",
       "       [1.00000000e+00, 3.08641975e-01],\n",
       "       [1.00000000e+00, 4.31078461e-01],\n",
       "       [1.00000000e+00, 5.73921028e-01],\n",
       "       [1.00000000e+00, 7.37169677e-01],\n",
       "       [1.00000000e+00, 9.20824406e-01],\n",
       "       [1.00000000e+00, 1.12488522e+00],\n",
       "       [1.00000000e+00, 1.34935211e+00],\n",
       "       [1.00000000e+00, 1.59422508e+00],\n",
       "       [1.00000000e+00, 1.85950413e+00],\n",
       "       [1.00000000e+00, 2.14518927e+00],\n",
       "       [1.00000000e+00, 2.45128048e+00],\n",
       "       [1.00000000e+00, 2.77777778e+00],\n",
       "       [1.00000000e+00, 3.12468115e+00],\n",
       "       [1.00000000e+00, 3.49199061e+00],\n",
       "       [1.00000000e+00, 3.87970615e+00],\n",
       "       [1.00000000e+00, 4.28782777e+00],\n",
       "       [1.00000000e+00, 4.71635547e+00],\n",
       "       [1.00000000e+00, 5.16528926e+00],\n",
       "       [1.00000000e+00, 5.63462912e+00],\n",
       "       [1.00000000e+00, 6.12437506e+00],\n",
       "       [1.00000000e+00, 6.63452709e+00],\n",
       "       [1.00000000e+00, 7.16508520e+00],\n",
       "       [1.00000000e+00, 7.71604938e+00],\n",
       "       [1.00000000e+00, 8.28741965e+00],\n",
       "       [1.00000000e+00, 8.87919600e+00],\n",
       "       [1.00000000e+00, 9.49137843e+00],\n",
       "       [1.00000000e+00, 1.01239669e+01],\n",
       "       [1.00000000e+00, 1.07769615e+01],\n",
       "       [1.00000000e+00, 1.14503622e+01],\n",
       "       [1.00000000e+00, 1.21441690e+01],\n",
       "       [1.00000000e+00, 1.28583818e+01],\n",
       "       [1.00000000e+00, 1.35930007e+01],\n",
       "       [1.00000000e+00, 1.43480257e+01],\n",
       "       [1.00000000e+00, 1.51234568e+01],\n",
       "       [1.00000000e+00, 1.59192939e+01],\n",
       "       [1.00000000e+00, 1.67355372e+01],\n",
       "       [1.00000000e+00, 1.75721865e+01],\n",
       "       [1.00000000e+00, 1.84292419e+01],\n",
       "       [1.00000000e+00, 1.93067034e+01],\n",
       "       [1.00000000e+00, 2.02045710e+01],\n",
       "       [1.00000000e+00, 2.11228446e+01],\n",
       "       [1.00000000e+00, 2.20615243e+01],\n",
       "       [1.00000000e+00, 2.30206101e+01],\n",
       "       [1.00000000e+00, 2.40001020e+01],\n",
       "       [1.00000000e+00, 2.50000000e+01]])"
      ]
     },
     "execution_count": 20,
     "metadata": {},
     "output_type": "execute_result"
    }
   ],
   "source": [
    "x = np.column_stack((np.ones_like(x) ,x**2))\n",
    "x"
   ]
  },
  {
   "cell_type": "markdown",
   "metadata": {},
   "source": [
    "# Univariate Polynomial Regression\n",
    "Simple polynomial regression is a regression model with a single explanatory variable and a single target value.\n",
    "\n",
    "$$\n",
    "\\hat{y} = h_\\theta(x) = \\theta_0 + \\theta_1 x + \\theta_2 x^2\n",
    "$$\n",
    "\n",
    "## Gradient Descent \n",
    "\n",
    "Our task is to find the best possible polynomial that explains all the points in our dataset. We start by guessing initial values for the regression parameters $\\theta$ and update the values using gradient descent. \n",
    "\n",
    "The objective of polynomial regression is to minimize the cost function $J$:\n",
    "\n",
    "$$\n",
    "J(\\theta) = \\frac{1}{2m} \\sum_{i=1}^{m}(h_\\theta(x_i) - y_i)^2\n",
    "$$\n",
    "\n",
    "where the subscript $i$ is the i'th datapoint in the dataset.\n",
    "\n",
    "\n",
    "$\\theta_j$ are parameters of your model and by changing those values accordingly (using **gradient descent**) you will be able to lower the cost function $J(\\theta)$:\n",
    "\n",
    "$$\n",
    "\\theta_j = \\theta_j - \\alpha \\frac{1}{m} \\sum_{i=1}^m (h_\\theta(x_i) - y_i)x_i^j\n",
    "$$\n",
    "\n",
    "In polynomial regresion, we know that with each step of gradient descent, the parameters $\\theta_j$ get closer to the optimal values that will achieve the lowest cost $J(\\theta)$.\n"
   ]
  },
  {
   "cell_type": "code",
   "execution_count": null,
   "metadata": {},
   "outputs": [],
   "source": []
  }
 ],
 "metadata": {
  "kernelspec": {
   "display_name": "Python 3",
   "language": "python",
   "name": "python3"
  },
  "language_info": {
   "codemirror_mode": {
    "name": "ipython",
    "version": 3
   },
   "file_extension": ".py",
   "mimetype": "text/x-python",
   "name": "python",
   "nbconvert_exporter": "python",
   "pygments_lexer": "ipython3",
   "version": "3.7.1"
  }
 },
 "nbformat": 4,
 "nbformat_minor": 2
}
