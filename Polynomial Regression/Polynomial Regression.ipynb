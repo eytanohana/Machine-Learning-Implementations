{
 "cells": [
  {
   "cell_type": "code",
   "execution_count": 40,
   "metadata": {},
   "outputs": [],
   "source": [
    "%matplotlib inline\n",
    "import numpy as np\n",
    "import pandas as pd\n",
    "import matplotlib.pyplot as plt\n",
    "from poly_reg import *"
   ]
  },
  {
   "cell_type": "code",
   "execution_count": 41,
   "metadata": {},
   "outputs": [
    {
     "name": "stdout",
     "output_type": "stream",
     "text": [
      "The autoreload extension is already loaded. To reload it, use:\n",
      "  %reload_ext autoreload\n"
     ]
    }
   ],
   "source": [
    "plt.rcParams['figure.figsize'] = (14.0, 8.0) # set default size of plots\n",
    "plt.rcParams['image.interpolation'] = 'nearest'\n",
    "plt.rcParams['image.cmap'] = 'gray'\n",
    "\n",
    "np.set_printoptions(precision=3, suppress=True)\n",
    "# make the notebook automatically reload external python modules\n",
    "%load_ext autoreload\n",
    "%autoreload 2"
   ]
  },
  {
   "cell_type": "code",
   "execution_count": 42,
   "metadata": {},
   "outputs": [],
   "source": [
    "x = np.linspace(-5, 5, 100)\n",
    "y = x**2 +  np.random.normal(loc=0, scale=3, size=len(x))"
   ]
  },
  {
   "cell_type": "code",
   "execution_count": 50,
   "metadata": {},
   "outputs": [
    {
     "data": {
      "image/png": "[encoded data removed]",
      "text/plain": [
       "<Figure size 1008x576 with 1 Axes>"
      ]
     },
     "metadata": {
      "needs_background": "light"
     },
     "output_type": "display_data"
    }
   ],
   "source": [
    "plt.scatter(x, y)\n",
    "plt.plot(x, x**2, linestyle='--', color='red', label='optimal model')\n",
    "plt.legend();"
   ]
  },
  {
   "cell_type": "code",
   "execution_count": 44,
   "metadata": {
    "scrolled": true
   },
   "outputs": [
    {
     "data": {
      "text/plain": [
       "array([[ 1.   , -5.   , 25.   ],\n",
       "       [ 1.   , -4.899, 24.   ],\n",
       "       [ 1.   , -4.798, 23.021],\n",
       "       [ 1.   , -4.697, 22.062],\n",
       "       [ 1.   , -4.596, 21.123],\n",
       "       [ 1.   , -4.495, 20.205],\n",
       "       [ 1.   , -4.394, 19.307],\n",
       "       [ 1.   , -4.293, 18.429],\n",
       "       [ 1.   , -4.192, 17.572],\n",
       "       [ 1.   , -4.091, 16.736],\n",
       "       [ 1.   , -3.99 , 15.919],\n",
       "       [ 1.   , -3.889, 15.123],\n",
       "       [ 1.   , -3.788, 14.348],\n",
       "       [ 1.   , -3.687, 13.593],\n",
       "       [ 1.   , -3.586, 12.858],\n",
       "       [ 1.   , -3.485, 12.144],\n",
       "       [ 1.   , -3.384, 11.45 ],\n",
       "       [ 1.   , -3.283, 10.777],\n",
       "       [ 1.   , -3.182, 10.124],\n",
       "       [ 1.   , -3.081,  9.491],\n",
       "       [ 1.   , -2.98 ,  8.879],\n",
       "       [ 1.   , -2.879,  8.287],\n",
       "       [ 1.   , -2.778,  7.716],\n",
       "       [ 1.   , -2.677,  7.165],\n",
       "       [ 1.   , -2.576,  6.635],\n",
       "       [ 1.   , -2.475,  6.124],\n",
       "       [ 1.   , -2.374,  5.635],\n",
       "       [ 1.   , -2.273,  5.165],\n",
       "       [ 1.   , -2.172,  4.716],\n",
       "       [ 1.   , -2.071,  4.288],\n",
       "       [ 1.   , -1.97 ,  3.88 ],\n",
       "       [ 1.   , -1.869,  3.492],\n",
       "       [ 1.   , -1.768,  3.125],\n",
       "       [ 1.   , -1.667,  2.778],\n",
       "       [ 1.   , -1.566,  2.451],\n",
       "       [ 1.   , -1.465,  2.145],\n",
       "       [ 1.   , -1.364,  1.86 ],\n",
       "       [ 1.   , -1.263,  1.594],\n",
       "       [ 1.   , -1.162,  1.349],\n",
       "       [ 1.   , -1.061,  1.125],\n",
       "       [ 1.   , -0.96 ,  0.921],\n",
       "       [ 1.   , -0.859,  0.737],\n",
       "       [ 1.   , -0.758,  0.574],\n",
       "       [ 1.   , -0.657,  0.431],\n",
       "       [ 1.   , -0.556,  0.309],\n",
       "       [ 1.   , -0.455,  0.207],\n",
       "       [ 1.   , -0.354,  0.125],\n",
       "       [ 1.   , -0.253,  0.064],\n",
       "       [ 1.   , -0.152,  0.023],\n",
       "       [ 1.   , -0.051,  0.003],\n",
       "       [ 1.   ,  0.051,  0.003],\n",
       "       [ 1.   ,  0.152,  0.023],\n",
       "       [ 1.   ,  0.253,  0.064],\n",
       "       [ 1.   ,  0.354,  0.125],\n",
       "       [ 1.   ,  0.455,  0.207],\n",
       "       [ 1.   ,  0.556,  0.309],\n",
       "       [ 1.   ,  0.657,  0.431],\n",
       "       [ 1.   ,  0.758,  0.574],\n",
       "       [ 1.   ,  0.859,  0.737],\n",
       "       [ 1.   ,  0.96 ,  0.921],\n",
       "       [ 1.   ,  1.061,  1.125],\n",
       "       [ 1.   ,  1.162,  1.349],\n",
       "       [ 1.   ,  1.263,  1.594],\n",
       "       [ 1.   ,  1.364,  1.86 ],\n",
       "       [ 1.   ,  1.465,  2.145],\n",
       "       [ 1.   ,  1.566,  2.451],\n",
       "       [ 1.   ,  1.667,  2.778],\n",
       "       [ 1.   ,  1.768,  3.125],\n",
       "       [ 1.   ,  1.869,  3.492],\n",
       "       [ 1.   ,  1.97 ,  3.88 ],\n",
       "       [ 1.   ,  2.071,  4.288],\n",
       "       [ 1.   ,  2.172,  4.716],\n",
       "       [ 1.   ,  2.273,  5.165],\n",
       "       [ 1.   ,  2.374,  5.635],\n",
       "       [ 1.   ,  2.475,  6.124],\n",
       "       [ 1.   ,  2.576,  6.635],\n",
       "       [ 1.   ,  2.677,  7.165],\n",
       "       [ 1.   ,  2.778,  7.716],\n",
       "       [ 1.   ,  2.879,  8.287],\n",
       "       [ 1.   ,  2.98 ,  8.879],\n",
       "       [ 1.   ,  3.081,  9.491],\n",
       "       [ 1.   ,  3.182, 10.124],\n",
       "       [ 1.   ,  3.283, 10.777],\n",
       "       [ 1.   ,  3.384, 11.45 ],\n",
       "       [ 1.   ,  3.485, 12.144],\n",
       "       [ 1.   ,  3.586, 12.858],\n",
       "       [ 1.   ,  3.687, 13.593],\n",
       "       [ 1.   ,  3.788, 14.348],\n",
       "       [ 1.   ,  3.889, 15.123],\n",
       "       [ 1.   ,  3.99 , 15.919],\n",
       "       [ 1.   ,  4.091, 16.736],\n",
       "       [ 1.   ,  4.192, 17.572],\n",
       "       [ 1.   ,  4.293, 18.429],\n",
       "       [ 1.   ,  4.394, 19.307],\n",
       "       [ 1.   ,  4.495, 20.205],\n",
       "       [ 1.   ,  4.596, 21.123],\n",
       "       [ 1.   ,  4.697, 22.062],\n",
       "       [ 1.   ,  4.798, 23.021],\n",
       "       [ 1.   ,  4.899, 24.   ],\n",
       "       [ 1.   ,  5.   , 25.   ]])"
      ]
     },
     "execution_count": 44,
     "metadata": {},
     "output_type": "execute_result"
    }
   ],
   "source": [
    "data = np.column_stack((np.ones_like(x), x ,x**2))\n",
    "data"
   ]
  },
  {
   "cell_type": "markdown",
   "metadata": {},
   "source": [
    "# Univariate Polynomial Regression\n",
    "Simple polynomial regression is a regression model with a single explanatory variable and a single target value.\n",
    "\n",
    "$$\n",
    "\\hat{y} = h_\\theta(x) = \\theta_0 + \\theta_1 x + \\theta_2 x^2\n",
    "$$\n",
    "\n",
    "## Gradient Descent \n",
    "\n",
    "Our task is to find the best possible polynomial that explains all the points in our dataset. We start by guessing initial values for the regression parameters $\\theta$ and update the values using gradient descent. \n",
    "\n",
    "The objective of polynomial regression is to minimize the cost function $J$:\n",
    "\n",
    "$$\n",
    "J(\\theta) = \\frac{1}{2m} \\sum_{i=1}^{m}(h_\\theta(x_i) - y_i)^2\n",
    "$$\n",
    "\n",
    "where the subscript $i$ is the i'th datapoint in the dataset.\n",
    "\n",
    "\n",
    "$\\theta_j$ are parameters of your model and by changing those values accordingly (using **gradient descent**) you will be able to lower the cost function $J(\\theta)$:\n",
    "\n",
    "$$\n",
    "\\theta_j = \\theta_j - \\alpha \\frac{1}{m} \\sum_{i=1}^m (h_\\theta(x_i) - y_i)x_i^j\n",
    "$$\n",
    "\n",
    "In polynomial regresion, we know that with each step of gradient descent, the parameters $\\theta_j$ get closer to the optimal values that will achieve the lowest cost $J(\\theta)$.\n"
   ]
  },
  {
   "cell_type": "code",
   "execution_count": 47,
   "metadata": {},
   "outputs": [
    {
     "data": {
      "text/plain": [
       "array([0.496, 0.081, 0.22 ])"
      ]
     },
     "execution_count": 47,
     "metadata": {},
     "output_type": "execute_result"
    }
   ],
   "source": [
    "theta = np.random.random(data.shape[1])\n",
    "theta"
   ]
  },
  {
   "cell_type": "code",
   "execution_count": null,
   "metadata": {},
   "outputs": [],
   "source": []
  }
 ],
 "metadata": {
  "kernelspec": {
   "display_name": "Python 3",
   "language": "python",
   "name": "python3"
  },
  "language_info": {
   "codemirror_mode": {
    "name": "ipython",
    "version": 3
   },
   "file_extension": ".py",
   "mimetype": "text/x-python",
   "name": "python",
   "nbconvert_exporter": "python",
   "pygments_lexer": "ipython3",
   "version": "3.7.1"
  }
 },
 "nbformat": 4,
 "nbformat_minor": 2
}
